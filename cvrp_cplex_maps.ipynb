{
 "cells": [
  {
   "cell_type": "markdown",
   "metadata": {},
   "source": [
    "$n$ is the number of clientes"
   ]
  },
  {
   "cell_type": "markdown",
   "metadata": {},
   "source": [
    "$N$ is set of clients, with $N=\\{1,2,...,n\\}$"
   ]
  },
  {
   "cell_type": "markdown",
   "metadata": {},
   "source": [
    "$V$ is set of vetices (or nodes), with $V=\\{0\\}\\cup N$"
   ]
  },
  {
   "cell_type": "markdown",
   "metadata": {},
   "source": [
    "$A$ is set of arcs, with $A=\\{(i,j)\\in V^2 : i\\neq j\\}$"
   ]
  },
  {
   "cell_type": "markdown",
   "metadata": {},
   "source": [
    "$c_{ij}$ is cost of travel over arc $(i,j)\\in A$"
   ]
  },
  {
   "cell_type": "markdown",
   "metadata": {},
   "source": [
    "$Q$ is the vehicle capacity"
   ]
  },
  {
   "cell_type": "markdown",
   "metadata": {},
   "source": [
    "$q_i$ is the amount that has to be delivered to customer $i\\in N$"
   ]
  },
  {
   "cell_type": "code",
   "execution_count": 1,
   "metadata": {},
   "outputs": [],
   "source": [
    "import numpy as np\n",
    "import pandas as pd\n",
    "import matplotlib.pyplot as plt\n",
    "from docplex.mp.model import Model\n",
    "from matplotlib.pyplot import figure\n",
    "%matplotlib inline\n",
    "import folium"
   ]
  },
  {
   "cell_type": "code",
   "execution_count": 2,
   "metadata": {},
   "outputs": [
    {
     "data": {
      "text/html": [
       "<div>\n",
       "<style scoped>\n",
       "    .dataframe tbody tr th:only-of-type {\n",
       "        vertical-align: middle;\n",
       "    }\n",
       "\n",
       "    .dataframe tbody tr th {\n",
       "        vertical-align: top;\n",
       "    }\n",
       "\n",
       "    .dataframe thead th {\n",
       "        text-align: right;\n",
       "    }\n",
       "</style>\n",
       "<table border=\"1\" class=\"dataframe\">\n",
       "  <thead>\n",
       "    <tr style=\"text-align: right;\">\n",
       "      <th></th>\n",
       "      <th>Sender Name</th>\n",
       "      <th>Start lat</th>\n",
       "      <th>Start lan</th>\n",
       "      <th>Vehicle Capacity</th>\n",
       "      <th>Recipient Name</th>\n",
       "      <th>Recipient lat</th>\n",
       "      <th>Recipient lan</th>\n",
       "      <th>Amount delivery</th>\n",
       "    </tr>\n",
       "  </thead>\n",
       "  <tbody>\n",
       "    <tr>\n",
       "      <td>0</td>\n",
       "      <td>Sen1</td>\n",
       "      <td>33.590401</td>\n",
       "      <td>-7.620526</td>\n",
       "      <td>20.0</td>\n",
       "      <td>Rec1</td>\n",
       "      <td>33.587907</td>\n",
       "      <td>-7.617337</td>\n",
       "      <td>6</td>\n",
       "    </tr>\n",
       "    <tr>\n",
       "      <td>1</td>\n",
       "      <td>NaN</td>\n",
       "      <td>NaN</td>\n",
       "      <td>NaN</td>\n",
       "      <td>NaN</td>\n",
       "      <td>Rec2</td>\n",
       "      <td>33.566510</td>\n",
       "      <td>-7.578457</td>\n",
       "      <td>3</td>\n",
       "    </tr>\n",
       "    <tr>\n",
       "      <td>2</td>\n",
       "      <td>NaN</td>\n",
       "      <td>NaN</td>\n",
       "      <td>NaN</td>\n",
       "      <td>NaN</td>\n",
       "      <td>Rec3</td>\n",
       "      <td>33.552353</td>\n",
       "      <td>-7.553179</td>\n",
       "      <td>4</td>\n",
       "    </tr>\n",
       "    <tr>\n",
       "      <td>3</td>\n",
       "      <td>NaN</td>\n",
       "      <td>NaN</td>\n",
       "      <td>NaN</td>\n",
       "      <td>NaN</td>\n",
       "      <td>Rec4</td>\n",
       "      <td>33.537164</td>\n",
       "      <td>-7.576377</td>\n",
       "      <td>4</td>\n",
       "    </tr>\n",
       "    <tr>\n",
       "      <td>4</td>\n",
       "      <td>NaN</td>\n",
       "      <td>NaN</td>\n",
       "      <td>NaN</td>\n",
       "      <td>NaN</td>\n",
       "      <td>Rec5</td>\n",
       "      <td>33.578449</td>\n",
       "      <td>-7.649248</td>\n",
       "      <td>8</td>\n",
       "    </tr>\n",
       "  </tbody>\n",
       "</table>\n",
       "</div>"
      ],
      "text/plain": [
       "  Sender Name  Start lat  Start lan  Vehicle Capacity Recipient Name  \\\n",
       "0        Sen1  33.590401  -7.620526              20.0           Rec1   \n",
       "1         NaN        NaN        NaN               NaN           Rec2   \n",
       "2         NaN        NaN        NaN               NaN           Rec3   \n",
       "3         NaN        NaN        NaN               NaN           Rec4   \n",
       "4         NaN        NaN        NaN               NaN           Rec5   \n",
       "\n",
       "   Recipient lat  Recipient lan  Amount delivery  \n",
       "0      33.587907      -7.617337                6  \n",
       "1      33.566510      -7.578457                3  \n",
       "2      33.552353      -7.553179                4  \n",
       "3      33.537164      -7.576377                4  \n",
       "4      33.578449      -7.649248                8  "
      ]
     },
     "execution_count": 2,
     "metadata": {},
     "output_type": "execute_result"
    }
   ],
   "source": [
    "features = pd.read_excel(\"C:/Users/Dell/Desktop/datasender.xls\")\n",
    "features.head(5)"
   ]
  },
  {
   "cell_type": "code",
   "execution_count": 3,
   "metadata": {},
   "outputs": [
    {
     "data": {
      "text/plain": [
       "Sender Name          1\n",
       "Start lat            1\n",
       "Start lan            1\n",
       "Vehicle Capacity     1\n",
       "Recipient Name      10\n",
       "Recipient lat       10\n",
       "Recipient lan       10\n",
       "Amount delivery     10\n",
       "dtype: int64"
      ]
     },
     "execution_count": 3,
     "metadata": {},
     "output_type": "execute_result"
    }
   ],
   "source": [
    "features.count()"
   ]
  },
  {
   "cell_type": "code",
   "execution_count": 4,
   "metadata": {},
   "outputs": [
    {
     "name": "stdout",
     "output_type": "stream",
     "text": [
      "n =  10\n",
      "****\n",
      "Q =  20.0\n",
      "****\n",
      "N1 = \n",
      " ['Rec1', 'Rec2', 'Rec3', 'Rec4', 'Rec5', 'Rec6', 'Rec7', 'Rec8', 'Rec9', 'Rec10']\n",
      "****\n",
      "V1 = \n",
      " ['Sen1', 'Rec1', 'Rec2', 'Rec3', 'Rec4', 'Rec5', 'Rec6', 'Rec7', 'Rec8', 'Rec9', 'Rec10']\n",
      "****\n",
      "q1 = \n",
      " {'Rec1': 6, 'Rec2': 3, 'Rec3': 4, 'Rec4': 4, 'Rec5': 8, 'Rec6': 8, 'Rec7': 10, 'Rec8': 5, 'Rec9': 15, 'Rec10': 2}\n",
      "****\n",
      "loc_x = \n",
      " [33.5904014, 33.587907, 33.5665096, 33.5523534, 33.5371637, 33.5784488, 33.564814, 33.5612433, 33.5451624, 33.5623764, 33.5835463]\n",
      "****\n",
      "loc_y = \n",
      " [-7.6205263, -7.6173367, -7.5784567, -7.5531788, -7.5763768, -7.6492485, -7.6560206, -7.6679681, -7.6693127, -7.6731874, -7.6072074]\n"
     ]
    }
   ],
   "source": [
    "n = features['Amount delivery'].count()\n",
    "Q = features['Vehicle Capacity'].sum()\n",
    "N1=[]\n",
    "for i in range (1,n+1):\n",
    "    N1.append(features['Recipient Name'][i-1])\n",
    "V1 = [features['Sender Name'][0]]+N1\n",
    "\n",
    "\n",
    "loc_x = []\n",
    "loc_y =[]\n",
    "loc_x.append(round(features['Start lat'][0],7))\n",
    "loc_y.append(round(features['Start lan'][0],7))\n",
    "\n",
    "q1={}\n",
    "for m in range(0, n):\n",
    "    q1[features['Recipient Name'][m]]=features['Amount delivery'][m]\n",
    "    loc_x.append(round(features['Recipient lat'][m],7))\n",
    "    loc_y.append(round(features['Recipient lan'][m],7))\n",
    "    \n",
    "print('n = ',n)\n",
    "print('****')\n",
    "print('Q = ',Q)\n",
    "print('****')\n",
    "print('N1 = \\n',N1)\n",
    "print('****')\n",
    "print('V1 = \\n',V1)\n",
    "print('****')\n",
    "print('q1 = \\n',q1)\n",
    "print('****')\n",
    "print('loc_x = \\n',loc_x)\n",
    "print('****')\n",
    "print('loc_y = \\n',loc_y)\n"
   ]
  },
  {
   "cell_type": "code",
   "execution_count": 5,
   "metadata": {},
   "outputs": [],
   "source": [
    "N = []\n",
    "q = {}\n",
    "for i in range(1,len(N1)+1):\n",
    "    N.append(i)\n",
    "    q[i]=features['Amount delivery'][i-1]\n",
    "    \n",
    "Q=int(Q)    \n",
    "V=[0]+N"
   ]
  },
  {
   "cell_type": "code",
   "execution_count": 6,
   "metadata": {},
   "outputs": [
    {
     "data": {
      "text/html": [
       "<div style=\"width:100%;\"><div style=\"position:relative;width:100%;height:0;padding-bottom:60%;\"><iframe src=\"about:blank\" style=\"position:absolute;width:100%;height:100%;left:0;top:0;border:none !important;\" data-html=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 onload=\"this.contentDocument.open();this.contentDocument.write(atob(this.getAttribute('data-html')));this.contentDocument.close();\" allowfullscreen webkitallowfullscreen mozallowfullscreen></iframe></div></div>"
      ],
      "text/plain": [
       "<folium.folium.Map at 0x1d79c3b1d48>"
      ]
     },
     "execution_count": 6,
     "metadata": {},
     "output_type": "execute_result"
    }
   ],
   "source": [
    "m = folium.Map(location=[33.5904014, -7.6205263],\n",
    "               min_zoom=1, max_zoom=20, zoom_start=10)\n",
    "\n",
    "for i in range(1, len(N)):\n",
    "    folium.Circle(\n",
    "        location=[loc_x[i+1],loc_y[i+1]],\n",
    "        color='crimson',\n",
    "        weight=10, opacity=1,\n",
    "        tooltip =\n",
    "        '<li><bold>Target : '+str(features['Recipient Name'][i])+\n",
    "        '<li><bold>lat : '+str(round(features['Recipient lat'][i],7))+\n",
    "        '<li><bold>Tan : '+str(round(features['Recipient lan'][i],7))+\n",
    "        '<li><bold>Amount : '+str(features['Amount delivery'][i]),\n",
    "        radius=int(features['Amount delivery'][i])**1.1).add_to(m)\n",
    "\n",
    "folium.Circle(\n",
    "        location=[loc_x[0],loc_y[0]],\n",
    "        color='blue',\n",
    "        weight=10, opacity=1,\n",
    "        tooltip =\n",
    "        '<li><bold>Start : '+str('Sender')+\n",
    "        '<li><bold>Lat : '+str(round(features['Start lat'][0],7))+\n",
    "        '<li><bold>Lan : '+str(round(features['Start lat'][0],7))+\n",
    "        '<li><bold>Amount : '+str(Q),\n",
    "        radius=int(Q)**1.1).add_to(m)\n",
    "m"
   ]
  },
  {
   "cell_type": "code",
   "execution_count": 7,
   "metadata": {},
   "outputs": [
    {
     "name": "stdout",
     "output_type": "stream",
     "text": [
      "Version identifier: 12.10.0.0 | 2019-11-27 | 843d4de2ae\n",
      "CPXPARAM_Read_DataCheck                          1\n",
      "CPXPARAM_RandomSeed                              201903125\n",
      "CPXPARAM_TimeLimit                               15\n",
      "Found incumbent of value 0.941325 after 0.00 sec. (0.01 ticks)\n",
      "Tried aggregator 2 times.\n",
      "MIP Presolve eliminated 10 rows and 8 columns.\n",
      "MIP Presolve modified 41 coefficients.\n",
      "Aggregator did 41 substitutions.\n",
      "Reduced MIP has 63 rows, 153 columns, and 311 nonzeros.\n",
      "Reduced MIP has 102 binaries, 0 generals, 0 SOSs, and 82 indicators.\n",
      "Presolve time = 0.02 sec. (0.33 ticks)\n",
      "Probing time = 0.00 sec. (0.29 ticks)\n",
      "Tried aggregator 1 time.\n",
      "Detecting symmetries...\n",
      "Reduced MIP has 63 rows, 153 columns, and 311 nonzeros.\n",
      "Reduced MIP has 102 binaries, 0 generals, 0 SOSs, and 82 indicators.\n",
      "Presolve time = 0.02 sec. (0.25 ticks)\n",
      "Probing time = 0.00 sec. (0.29 ticks)\n",
      "Clique table members: 89.\n",
      "MIP emphasis: balance optimality and feasibility.\n",
      "MIP search method: dynamic search.\n",
      "Parallel mode: deterministic, using up to 4 threads.\n",
      "Root relaxation solution time = 0.00 sec. (0.15 ticks)\n",
      "\n",
      "        Nodes                                         Cuts/\n",
      "   Node  Left     Objective  IInf  Best Integer    Best Bound    ItCnt     Gap\n",
      "\n",
      "*     0+    0                            0.9413        0.0000           100.00%\n",
      "      0     0        0.2434    15        0.9413        0.2434       16   74.14%\n",
      "      0     0        0.3078    15        0.9413      Cuts: 27       27   67.30%\n",
      "      0     0        0.3107    15        0.9413      Cuts: 43       43   67.00%\n",
      "      0     0        0.3107    15        0.9413      Cuts: 16       51   66.99%\n",
      "      0     0        0.3114    15        0.9413      Cuts: 26       56   66.92%\n",
      "      0     0        0.3117    15        0.9413      Cuts: 13       58   66.88%\n",
      "Detecting symmetries...\n",
      "      0     0        0.3124    15        0.9413   ZeroHalf: 8       61   66.81%\n",
      "*     0+    0                            0.5363        0.3124            41.74%\n",
      "      0     0        0.3150    15        0.5363      Cuts: 22       68   41.27%\n",
      "      0     0        0.3182    15        0.5363      Cuts: 14       78   40.67%\n",
      "      0     0        0.3198    15        0.5363      Cuts: 22       86   40.37%\n",
      "      0     0        0.3216    15        0.5363      Cuts: 12       91   40.03%\n",
      "      0     0        0.3234    15        0.5363       Cuts: 8       94   39.70%\n",
      "      0     0        0.3260    15        0.5363       Cuts: 3       97   39.21%\n",
      "      0     0        0.3278    15        0.5363       Cuts: 4      103   38.87%\n",
      "      0     0        0.3303    15        0.5363       Cuts: 7      108   38.41%\n",
      "      0     0        0.3306    15        0.5363       Cuts: 9      112   38.36%\n",
      "      0     0        0.3338    15        0.5363       Cuts: 5      115   37.76%\n",
      "      0     0        0.3360    15        0.5363      Cuts: 21      117   37.35%\n",
      "      0     0        0.3360    15        0.5363   ZeroHalf: 2      118   37.35%\n",
      "      0     0        0.3372    15        0.5363      Cuts: 25      121   37.12%\n",
      "      0     0        0.3376    15        0.5363      Cuts: 15      124   37.04%\n",
      "      0     0        0.3382    15        0.5363      Cuts: 11      126   36.94%\n",
      "      0     0        0.3389    15        0.5363      Cuts: 28      134   36.81%\n",
      "      0     0        0.3395    15        0.5363       Cuts: 6      139   36.69%\n",
      "      0     0        0.3395    15        0.5363      Cuts: 12      147   36.69%\n",
      "*     0+    0                            0.4923        0.3395            31.03%\n",
      "Detecting symmetries...\n",
      "      0     2        0.3395    32        0.4923        0.4046      147   17.82%\n",
      "Elapsed time = 0.36 sec. (18.56 ticks, tree = 0.02 MB, solutions = 3)\n",
      "\n",
      "Clique cuts applied:  3\n",
      "Cover cuts applied:  2\n",
      "Implied bound cuts applied:  88\n",
      "Mixed integer rounding cuts applied:  1\n",
      "Zero-half cuts applied:  19\n",
      "\n",
      "Root node processing (before b&c):\n",
      "  Real time             =    0.36 sec. (18.50 ticks)\n",
      "Parallel b&c, 4 threads:\n",
      "  Real time             =    0.27 sec. (25.15 ticks)\n",
      "  Sync time (average)   =    0.11 sec.\n",
      "  Wait time (average)   =    0.00 sec.\n",
      "                          ------------\n",
      "Total (root+branch&cut) =    0.63 sec. (43.65 ticks)\n",
      "****\n",
      "solution for: CVRP\n",
      "objective: 0.492322\n",
      "x_0_4=1\n",
      "x_0_5=1\n",
      "x_0_7=1\n",
      "x_0_9=1\n",
      "x_1_0=1\n",
      "x_2_10=1\n",
      "x_3_2=1\n",
      "x_4_3=1\n",
      "x_5_0=1\n",
      "x_6_0=1\n",
      "x_7_6=1\n",
      "x_8_0=1\n",
      "x_9_8=1\n",
      "x_10_1=1\n",
      "u_1=19.000\n",
      "u_2=11.000\n",
      "u_3=8.000\n",
      "u_4=4.000\n",
      "u_5=8.000\n",
      "u_6=18.000\n",
      "u_7=10.000\n",
      "u_8=20.000\n",
      "u_9=15.000\n",
      "u_10=13.000\n",
      "\n"
     ]
    }
   ],
   "source": [
    "A = [(i, j) for i in V for j in V if i != j]\n",
    "c = {(i, j): np.hypot(loc_x[i]-loc_x[j], loc_y[i]-loc_y[j]) for i, j in A}\n",
    "mdl = Model('CVRP')\n",
    "x = mdl.binary_var_dict(A, name='x')\n",
    "u = mdl.continuous_var_dict(N, ub=Q, name='u')\n",
    "mdl.minimize(mdl.sum(c[i, j]*x[i, j] for i, j in A))\n",
    "mdl.add_constraints(mdl.sum(x[i, j] for j in V if j != i) == 1 for i in N)\n",
    "mdl.add_constraints(mdl.sum(x[i, j] for i in V if i != j) == 1 for j in N)\n",
    "mdl.add_indicator_constraints(mdl.indicator_constraint(x[i, j], u[i]+q[j] == u[j]) for i, j in A if i != 0 and j != 0)\n",
    "mdl.add_constraints(u[i] >= q[i] for i in N)\n",
    "mdl.parameters.timelimit = 15\n",
    "solution = mdl.solve(log_output=True)\n",
    "print('****')\n",
    "print(solution)"
   ]
  },
  {
   "cell_type": "code",
   "execution_count": 8,
   "metadata": {
    "scrolled": true
   },
   "outputs": [
    {
     "data": {
      "text/plain": [
       "<JobSolveStatus.OPTIMAL_SOLUTION: 2>"
      ]
     },
     "execution_count": 8,
     "metadata": {},
     "output_type": "execute_result"
    }
   ],
   "source": [
    "solution.solve_status"
   ]
  },
  {
   "cell_type": "code",
   "execution_count": 9,
   "metadata": {},
   "outputs": [
    {
     "name": "stdout",
     "output_type": "stream",
     "text": [
      "Active_arcs are :\n",
      " [[0, 4], [0, 5], [0, 7], [0, 9], [1, 0], [2, 10], [3, 2], [4, 3], [5, 0], [6, 0], [7, 6], [8, 0], [9, 8], [10, 1]]\n"
     ]
    }
   ],
   "source": [
    "active_arcs = [a for a in A if x[a].solution_value > 0.9]\n",
    "active_arcs=np.asarray(active_arcs)\n",
    "active_arcs=active_arcs.tolist()\n",
    "print('Active_arcs are :\\n',active_arcs)"
   ]
  },
  {
   "cell_type": "code",
   "execution_count": 10,
   "metadata": {},
   "outputs": [
    {
     "name": "stdout",
     "output_type": "stream",
     "text": [
      "Shape of Paths\n",
      "\n"
     ]
    },
    {
     "data": {
      "text/html": [
       "<div style=\"width:100%;\"><div style=\"position:relative;width:100%;height:0;padding-bottom:60%;\"><iframe src=\"about:blank\" style=\"position:absolute;width:100%;height:100%;left:0;top:0;border:none !important;\" data-html=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 onload=\"this.contentDocument.open();this.contentDocument.write(atob(this.getAttribute('data-html')));this.contentDocument.close();\" allowfullscreen webkitallowfullscreen mozallowfullscreen></iframe></div></div>"
      ],
      "text/plain": [
       "<folium.folium.Map at 0x1d79c3b1d48>"
      ]
     },
     "execution_count": 10,
     "metadata": {},
     "output_type": "execute_result"
    }
   ],
   "source": [
    "for i in range (0,len(active_arcs)):\n",
    "    k=active_arcs[i]\n",
    "    s1=k[0]\n",
    "    s2=k[1]\n",
    "    folium.PolyLine(([loc_x[s1], loc_y[s1]], [loc_x[s2], loc_y[s2]]),\n",
    "                    color='black', weight=2.5, opacity=1).add_to(m)\n",
    "\n",
    "print('Shape of Paths\\n')\n",
    "m"
   ]
  },
  {
   "cell_type": "code",
   "execution_count": 11,
   "metadata": {},
   "outputs": [
    {
     "name": "stdout",
     "output_type": "stream",
     "text": [
      "Shortest paths are :\n",
      " [[0, 4, 3, 2, 10, 1, 0], [0, 5, 0], [0, 7, 6, 0], [0, 9, 8, 0]]\n"
     ]
    }
   ],
   "source": [
    "M=[]\n",
    "for i in active_arcs:\n",
    "    T1 = i\n",
    "    for j in active_arcs:\n",
    "        T2 = j\n",
    "        if T1[len(T1)-1]==T2[0] and T2[0]!=0 :\n",
    "            T1.append(T2[1])\n",
    "            active_arcs.extend([T1])\n",
    "            if T1 not in M and T1[0]==0:\n",
    "                M.append(T1)\n",
    "print('Shortest paths are :\\n', M)   "
   ]
  }
 ],
 "metadata": {
  "kernelspec": {
   "display_name": "Python 3",
   "language": "python",
   "name": "python3"
  },
  "language_info": {
   "codemirror_mode": {
    "name": "ipython",
    "version": 3
   },
   "file_extension": ".py",
   "mimetype": "text/x-python",
   "name": "python",
   "nbconvert_exporter": "python",
   "pygments_lexer": "ipython3",
   "version": "3.7.4"
  }
 },
 "nbformat": 4,
 "nbformat_minor": 4
}
