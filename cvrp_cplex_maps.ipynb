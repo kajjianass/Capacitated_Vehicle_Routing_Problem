{
 "cells": [
  {
   "cell_type": "markdown",
   "metadata": {},
   "source": [
    "$n$ is the number of clientes"
   ]
  },
  {
   "cell_type": "markdown",
   "metadata": {},
   "source": [
    "$N$ is set of clients, with $N=\\{1,2,...,n\\}$"
   ]
  },
  {
   "cell_type": "markdown",
   "metadata": {},
   "source": [
    "$V$ is set of vetices (or nodes), with $V=\\{0\\}\\cup N$"
   ]
  },
  {
   "cell_type": "markdown",
   "metadata": {},
   "source": [
    "$A$ is set of arcs, with $A=\\{(i,j)\\in V^2 : i\\neq j\\}$"
   ]
  },
  {
   "cell_type": "markdown",
   "metadata": {},
   "source": [
    "$c_{ij}$ is cost of travel over arc $(i,j)\\in A$"
   ]
  },
  {
   "cell_type": "markdown",
   "metadata": {},
   "source": [
    "$Q$ is the vehicle capacity"
   ]
  },
  {
   "cell_type": "markdown",
   "metadata": {},
   "source": [
    "$q_i$ is the amount that has to be delivered to customer $i\\in N$"
   ]
  },
  {
   "cell_type": "code",
   "execution_count": 1,
   "metadata": {},
   "outputs": [],
   "source": [
    "import numpy as np\n",
    "import pandas as pd\n",
    "import matplotlib.pyplot as plt\n",
    "from docplex.mp.model import Model\n",
    "from matplotlib.pyplot import figure\n",
    "%matplotlib inline\n",
    "import folium\n",
    "import gmaps\n",
    "import gmplot"
   ]
  },
  {
   "cell_type": "code",
   "execution_count": 2,
   "metadata": {},
   "outputs": [
    {
     "data": {
      "text/html": [
       "<div>\n",
       "<style scoped>\n",
       "    .dataframe tbody tr th:only-of-type {\n",
       "        vertical-align: middle;\n",
       "    }\n",
       "\n",
       "    .dataframe tbody tr th {\n",
       "        vertical-align: top;\n",
       "    }\n",
       "\n",
       "    .dataframe thead th {\n",
       "        text-align: right;\n",
       "    }\n",
       "</style>\n",
       "<table border=\"1\" class=\"dataframe\">\n",
       "  <thead>\n",
       "    <tr style=\"text-align: right;\">\n",
       "      <th></th>\n",
       "      <th>Sender Name</th>\n",
       "      <th>Start lat</th>\n",
       "      <th>Start lan</th>\n",
       "      <th>Vehicle Capacity</th>\n",
       "      <th>Recipient Name</th>\n",
       "      <th>Recipient lat</th>\n",
       "      <th>Recipient lan</th>\n",
       "      <th>Amount delivery</th>\n",
       "    </tr>\n",
       "  </thead>\n",
       "  <tbody>\n",
       "    <tr>\n",
       "      <td>0</td>\n",
       "      <td>Sen1</td>\n",
       "      <td>33.590401</td>\n",
       "      <td>-7.620526</td>\n",
       "      <td>20.0</td>\n",
       "      <td>Rec1</td>\n",
       "      <td>33.587907</td>\n",
       "      <td>-7.617337</td>\n",
       "      <td>6</td>\n",
       "    </tr>\n",
       "    <tr>\n",
       "      <td>1</td>\n",
       "      <td>NaN</td>\n",
       "      <td>NaN</td>\n",
       "      <td>NaN</td>\n",
       "      <td>NaN</td>\n",
       "      <td>Rec2</td>\n",
       "      <td>33.566510</td>\n",
       "      <td>-7.578457</td>\n",
       "      <td>3</td>\n",
       "    </tr>\n",
       "    <tr>\n",
       "      <td>2</td>\n",
       "      <td>NaN</td>\n",
       "      <td>NaN</td>\n",
       "      <td>NaN</td>\n",
       "      <td>NaN</td>\n",
       "      <td>Rec3</td>\n",
       "      <td>33.552353</td>\n",
       "      <td>-7.553179</td>\n",
       "      <td>4</td>\n",
       "    </tr>\n",
       "    <tr>\n",
       "      <td>3</td>\n",
       "      <td>NaN</td>\n",
       "      <td>NaN</td>\n",
       "      <td>NaN</td>\n",
       "      <td>NaN</td>\n",
       "      <td>Rec4</td>\n",
       "      <td>33.537164</td>\n",
       "      <td>-7.576377</td>\n",
       "      <td>4</td>\n",
       "    </tr>\n",
       "    <tr>\n",
       "      <td>4</td>\n",
       "      <td>NaN</td>\n",
       "      <td>NaN</td>\n",
       "      <td>NaN</td>\n",
       "      <td>NaN</td>\n",
       "      <td>Rec5</td>\n",
       "      <td>33.578449</td>\n",
       "      <td>-7.649248</td>\n",
       "      <td>8</td>\n",
       "    </tr>\n",
       "  </tbody>\n",
       "</table>\n",
       "</div>"
      ],
      "text/plain": [
       "  Sender Name  Start lat  Start lan  Vehicle Capacity Recipient Name  \\\n",
       "0        Sen1  33.590401  -7.620526              20.0           Rec1   \n",
       "1         NaN        NaN        NaN               NaN           Rec2   \n",
       "2         NaN        NaN        NaN               NaN           Rec3   \n",
       "3         NaN        NaN        NaN               NaN           Rec4   \n",
       "4         NaN        NaN        NaN               NaN           Rec5   \n",
       "\n",
       "   Recipient lat  Recipient lan  Amount delivery  \n",
       "0      33.587907      -7.617337                6  \n",
       "1      33.566510      -7.578457                3  \n",
       "2      33.552353      -7.553179                4  \n",
       "3      33.537164      -7.576377                4  \n",
       "4      33.578449      -7.649248                8  "
      ]
     },
     "execution_count": 2,
     "metadata": {},
     "output_type": "execute_result"
    }
   ],
   "source": [
    "features = pd.read_excel(\"C:/Users/Dell/Desktop/datasender.xls\")\n",
    "features.head(5)"
   ]
  },
  {
   "cell_type": "code",
   "execution_count": 3,
   "metadata": {},
   "outputs": [
    {
     "data": {
      "text/plain": [
       "Sender Name          1\n",
       "Start lat            1\n",
       "Start lan            1\n",
       "Vehicle Capacity     1\n",
       "Recipient Name      10\n",
       "Recipient lat       10\n",
       "Recipient lan       10\n",
       "Amount delivery     10\n",
       "dtype: int64"
      ]
     },
     "execution_count": 3,
     "metadata": {},
     "output_type": "execute_result"
    }
   ],
   "source": [
    "features.count()"
   ]
  },
  {
   "cell_type": "code",
   "execution_count": 4,
   "metadata": {},
   "outputs": [
    {
     "name": "stdout",
     "output_type": "stream",
     "text": [
      "n =  10\n",
      "****\n",
      "Q =  20.0\n",
      "****\n",
      "N1 = \n",
      " ['Rec1', 'Rec2', 'Rec3', 'Rec4', 'Rec5', 'Rec6', 'Rec7', 'Rec8', 'Rec9', 'Rec10']\n",
      "****\n",
      "V1 = \n",
      " ['Sen1', 'Rec1', 'Rec2', 'Rec3', 'Rec4', 'Rec5', 'Rec6', 'Rec7', 'Rec8', 'Rec9', 'Rec10']\n",
      "****\n",
      "q1 = \n",
      " {'Rec1': 6, 'Rec2': 3, 'Rec3': 4, 'Rec4': 4, 'Rec5': 8, 'Rec6': 8, 'Rec7': 10, 'Rec8': 5, 'Rec9': 15, 'Rec10': 2}\n",
      "****\n",
      "loc_x = \n",
      " [33.5904014, 33.587907, 33.5665096, 33.5523534, 33.5371637, 33.5784488, 33.564814, 33.5612433, 33.5451624, 33.5623764, 33.5835463]\n",
      "****\n",
      "loc_y = \n",
      " [-7.6205263, -7.6173367, -7.5784567, -7.5531788, -7.5763768, -7.6492485, -7.6560206, -7.6679681, -7.6693127, -7.6731874, -7.6072074]\n"
     ]
    }
   ],
   "source": [
    "n = features['Amount delivery'].count()\n",
    "Q = features['Vehicle Capacity'].sum()\n",
    "N1=[]\n",
    "for i in range (1,n+1):\n",
    "    N1.append(features['Recipient Name'][i-1])\n",
    "V1 = [features['Sender Name'][0]]+N1\n",
    "\n",
    "\n",
    "loc_x = []\n",
    "loc_y =[]\n",
    "loc_x.append(round(features['Start lat'][0],7))\n",
    "loc_y.append(round(features['Start lan'][0],7))\n",
    "\n",
    "q1={}\n",
    "for m in range(0, n):\n",
    "    q1[features['Recipient Name'][m]]=features['Amount delivery'][m]\n",
    "    loc_x.append(round(features['Recipient lat'][m],7))\n",
    "    loc_y.append(round(features['Recipient lan'][m],7))\n",
    "    \n",
    "print('n = ',n)\n",
    "print('****')\n",
    "print('Q = ',Q)\n",
    "print('****')\n",
    "print('N1 = \\n',N1)\n",
    "print('****')\n",
    "print('V1 = \\n',V1)\n",
    "print('****')\n",
    "print('q1 = \\n',q1)\n",
    "print('****')\n",
    "print('loc_x = \\n',loc_x)\n",
    "print('****')\n",
    "print('loc_y = \\n',loc_y)\n"
   ]
  },
  {
   "cell_type": "code",
   "execution_count": 5,
   "metadata": {},
   "outputs": [],
   "source": [
    "N = []\n",
    "q = {}\n",
    "for i in range(1,len(N1)+1):\n",
    "    N.append(i)\n",
    "    q[i]=features['Amount delivery'][i-1]\n",
    "    \n",
    "Q=int(Q)    \n",
    "V=[0]+N"
   ]
  },
  {
   "cell_type": "code",
   "execution_count": 6,
   "metadata": {},
   "outputs": [
    {
     "name": "stdout",
     "output_type": "stream",
     "text": [
      "Version identifier: 12.10.0.0 | 2019-11-27 | 843d4de2ae\n",
      "CPXPARAM_Read_DataCheck                          1\n",
      "CPXPARAM_RandomSeed                              201903125\n",
      "CPXPARAM_TimeLimit                               15\n",
      "Found incumbent of value 0.941325 after 0.00 sec. (0.01 ticks)\n",
      "Tried aggregator 2 times.\n",
      "MIP Presolve eliminated 10 rows and 8 columns.\n",
      "MIP Presolve modified 41 coefficients.\n",
      "Aggregator did 41 substitutions.\n",
      "Reduced MIP has 63 rows, 153 columns, and 311 nonzeros.\n",
      "Reduced MIP has 102 binaries, 0 generals, 0 SOSs, and 82 indicators.\n",
      "Presolve time = 0.03 sec. (0.33 ticks)\n",
      "Probing time = 0.00 sec. (0.29 ticks)\n",
      "Tried aggregator 1 time.\n",
      "Detecting symmetries...\n",
      "Reduced MIP has 63 rows, 153 columns, and 311 nonzeros.\n",
      "Reduced MIP has 102 binaries, 0 generals, 0 SOSs, and 82 indicators.\n",
      "Presolve time = 0.01 sec. (0.25 ticks)\n",
      "Probing time = 0.02 sec. (0.29 ticks)\n",
      "Clique table members: 89.\n",
      "MIP emphasis: balance optimality and feasibility.\n",
      "MIP search method: dynamic search.\n",
      "Parallel mode: deterministic, using up to 4 threads.\n",
      "Root relaxation solution time = 0.05 sec. (0.15 ticks)\n",
      "\n",
      "        Nodes                                         Cuts/\n",
      "   Node  Left     Objective  IInf  Best Integer    Best Bound    ItCnt     Gap\n",
      "\n",
      "*     0+    0                            0.9413        0.0000           100.00%\n",
      "      0     0        0.2434    15        0.9413        0.2434       16   74.14%\n",
      "      0     0        0.3078    15        0.9413      Cuts: 27       27   67.30%\n",
      "      0     0        0.3107    15        0.9413      Cuts: 43       43   67.00%\n",
      "      0     0        0.3107    15        0.9413      Cuts: 16       51   66.99%\n",
      "      0     0        0.3114    15        0.9413      Cuts: 26       56   66.92%\n",
      "      0     0        0.3117    15        0.9413      Cuts: 13       58   66.88%\n",
      "Detecting symmetries...\n",
      "      0     0        0.3124    15        0.9413   ZeroHalf: 8       61   66.81%\n",
      "*     0+    0                            0.5363        0.3124            41.74%\n",
      "      0     0        0.3150    15        0.5363      Cuts: 22       68   41.27%\n",
      "      0     0        0.3182    15        0.5363      Cuts: 14       78   40.67%\n",
      "      0     0        0.3198    15        0.5363      Cuts: 22       86   40.37%\n",
      "      0     0        0.3216    15        0.5363      Cuts: 12       91   40.03%\n",
      "      0     0        0.3234    15        0.5363       Cuts: 8       94   39.70%\n",
      "      0     0        0.3260    15        0.5363       Cuts: 3       97   39.21%\n",
      "      0     0        0.3278    15        0.5363       Cuts: 4      103   38.87%\n",
      "      0     0        0.3303    15        0.5363       Cuts: 7      108   38.41%\n",
      "      0     0        0.3306    15        0.5363       Cuts: 9      112   38.36%\n",
      "      0     0        0.3338    15        0.5363       Cuts: 5      115   37.76%\n",
      "      0     0        0.3360    15        0.5363      Cuts: 21      117   37.35%\n",
      "      0     0        0.3360    15        0.5363   ZeroHalf: 2      118   37.35%\n",
      "      0     0        0.3372    15        0.5363      Cuts: 25      121   37.12%\n",
      "      0     0        0.3376    15        0.5363      Cuts: 15      124   37.04%\n",
      "      0     0        0.3382    15        0.5363      Cuts: 11      126   36.94%\n",
      "      0     0        0.3389    15        0.5363      Cuts: 28      134   36.81%\n",
      "      0     0        0.3395    15        0.5363       Cuts: 6      139   36.69%\n",
      "      0     0        0.3395    15        0.5363      Cuts: 12      147   36.69%\n",
      "*     0+    0                            0.4923        0.3395            31.03%\n",
      "Detecting symmetries...\n",
      "      0     2        0.3395    32        0.4923        0.4046      147   17.82%\n",
      "Elapsed time = 0.36 sec. (18.56 ticks, tree = 0.02 MB, solutions = 3)\n",
      "\n",
      "Clique cuts applied:  3\n",
      "Cover cuts applied:  2\n",
      "Implied bound cuts applied:  88\n",
      "Mixed integer rounding cuts applied:  1\n",
      "Zero-half cuts applied:  19\n",
      "\n",
      "Root node processing (before b&c):\n",
      "  Real time             =    0.34 sec. (18.50 ticks)\n",
      "Parallel b&c, 4 threads:\n",
      "  Real time             =    0.33 sec. (25.15 ticks)\n",
      "  Sync time (average)   =    0.15 sec.\n",
      "  Wait time (average)   =    0.00 sec.\n",
      "                          ------------\n",
      "Total (root+branch&cut) =    0.67 sec. (43.65 ticks)\n",
      "****\n",
      "solution for: CVRP\n",
      "objective: 0.492322\n",
      "x_0_4=1\n",
      "x_0_5=1\n",
      "x_0_7=1\n",
      "x_0_9=1\n",
      "x_1_0=1\n",
      "x_2_10=1\n",
      "x_3_2=1\n",
      "x_4_3=1\n",
      "x_5_0=1\n",
      "x_6_0=1\n",
      "x_7_6=1\n",
      "x_8_0=1\n",
      "x_9_8=1\n",
      "x_10_1=1\n",
      "u_1=19.000\n",
      "u_2=11.000\n",
      "u_3=8.000\n",
      "u_4=4.000\n",
      "u_5=8.000\n",
      "u_6=18.000\n",
      "u_7=10.000\n",
      "u_8=20.000\n",
      "u_9=15.000\n",
      "u_10=13.000\n",
      "\n"
     ]
    }
   ],
   "source": [
    "A = [(i, j) for i in V for j in V if i != j]\n",
    "c = {(i, j): np.hypot(loc_x[i]-loc_x[j], loc_y[i]-loc_y[j]) for i, j in A}\n",
    "mdl = Model('CVRP')\n",
    "x = mdl.binary_var_dict(A, name='x')\n",
    "u = mdl.continuous_var_dict(N, ub=Q, name='u')\n",
    "mdl.minimize(mdl.sum(c[i, j]*x[i, j] for i, j in A))\n",
    "mdl.add_constraints(mdl.sum(x[i, j] for j in V if j != i) == 1 for i in N)\n",
    "mdl.add_constraints(mdl.sum(x[i, j] for i in V if i != j) == 1 for j in N)\n",
    "mdl.add_indicator_constraints(mdl.indicator_constraint(x[i, j], u[i]+q[j] == u[j]) for i, j in A if i != 0 and j != 0)\n",
    "mdl.add_constraints(u[i] >= q[i] for i in N)\n",
    "mdl.parameters.timelimit = 15\n",
    "solution = mdl.solve(log_output=True)\n",
    "print('****')\n",
    "print(solution)"
   ]
  },
  {
   "cell_type": "code",
   "execution_count": 7,
   "metadata": {
    "scrolled": true
   },
   "outputs": [
    {
     "name": "stdout",
     "output_type": "stream",
     "text": [
      "Active_arcs are :\n",
      " [[0, 4], [0, 5], [0, 7], [0, 9], [1, 0], [2, 10], [3, 2], [4, 3], [5, 0], [6, 0], [7, 6], [8, 0], [9, 8], [10, 1]]\n"
     ]
    }
   ],
   "source": [
    "solution.solve_status\n",
    "active_arcs = [a for a in A if x[a].solution_value > 0.9]\n",
    "active_arcs=np.asarray(active_arcs)\n",
    "active_arcs=active_arcs.tolist()\n",
    "print('Active_arcs are :\\n',active_arcs)"
   ]
  },
  {
   "cell_type": "code",
   "execution_count": 8,
   "metadata": {},
   "outputs": [],
   "source": [
    "import gmplot\n",
    "import numpy as np\n",
    "\n",
    "gmap = gmplot.GoogleMapPlotter(33.590401, -7.620526, 12)\n",
    "\n",
    "for i in range (0,len(active_arcs)):\n",
    "    k=active_arcs[i]\n",
    "    s1=k[0]\n",
    "    s2=k[1]\n",
    "    path = zip(*[\n",
    "    (loc_x[s1], loc_y[s1]),(loc_x[s2], loc_y[s2])\n",
    "          ])\n",
    "    gmap.plot(*path, edge_width=7, color='blue')\n",
    "    \n",
    "gmap.heatmap(loc_x, loc_y)\n",
    "gmap.scatter(loc_x, loc_y, c='r', marker=True)\n",
    "gmap.enable_marker_dropping('yellow', draggable=True)\n",
    "\n",
    "gmap.apikey = \"goole_maps_api_key\"\n",
    "gmap.draw(\"map.html\")\n",
    "#print(gmap.get())"
   ]
  },
  {
   "cell_type": "code",
   "execution_count": 9,
   "metadata": {},
   "outputs": [
    {
     "name": "stdout",
     "output_type": "stream",
     "text": [
      "Shortest paths are :\n",
      " [[0, 4, 3, 2, 10, 1, 0], [0, 5, 0], [0, 7, 6, 0], [0, 9, 8, 0]]\n"
     ]
    }
   ],
   "source": [
    "M=[]\n",
    "for i in active_arcs:\n",
    "    T1 = i\n",
    "    for j in active_arcs:\n",
    "        T2 = j\n",
    "        if T1[len(T1)-1]==T2[0] and T2[0]!=0 :\n",
    "            T1.append(T2[1])\n",
    "            active_arcs.extend([T1])\n",
    "            if T1 not in M and T1[0]==0:\n",
    "                M.append(T1)\n",
    "print('Shortest paths are :\\n', M)   "
   ]
  },
  {
   "cell_type": "markdown",
   "metadata": {},
   "source": [
    "# Now you can  open the file 'map.html' to see your paths"
   ]
  }
 ],
 "metadata": {
  "kernelspec": {
   "display_name": "Python 3",
   "language": "python",
   "name": "python3"
  },
  "language_info": {
   "codemirror_mode": {
    "name": "ipython",
    "version": 3
   },
   "file_extension": ".py",
   "mimetype": "text/x-python",
   "name": "python",
   "nbconvert_exporter": "python",
   "pygments_lexer": "ipython3",
   "version": "3.7.4"
  }
 },
 "nbformat": 4,
 "nbformat_minor": 4
}
